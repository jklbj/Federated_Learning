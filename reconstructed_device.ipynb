{
 "cells": [
  {
   "cell_type": "code",
   "execution_count": 1,
   "metadata": {},
   "outputs": [
    {
     "data": {
      "text/plain": [
       "['/home/mnetlab/anaconda3/envs/pp_fl/lib/python3.6/site-packages',\n",
       " '/home/mnetlab/anaconda3/envs/pp_fl/lib/python36.zip',\n",
       " '/home/mnetlab/anaconda3/envs/pp_fl/lib/python3.6',\n",
       " '/home/mnetlab/anaconda3/envs/pp_fl/lib/python3.6/lib-dynload',\n",
       " '',\n",
       " '/home/mnetlab/.local/lib/python3.6/site-packages',\n",
       " '/home/mnetlab/anaconda3/envs/pp_fl/lib/python3.6/site-packages',\n",
       " '/home/mnetlab/.local/lib/python3.6/site-packages/IPython/extensions',\n",
       " '/home/mnetlab/.ipython']"
      ]
     },
     "execution_count": 1,
     "metadata": {},
     "output_type": "execute_result"
    }
   ],
   "source": [
    "import sys\n",
    "sys.path.insert(0, '/home/mnetlab/anaconda3/envs/pp_fl/lib/python3.6/site-packages')\n",
    "sys.path"
   ]
  },
  {
   "cell_type": "code",
   "execution_count": 2,
   "metadata": {},
   "outputs": [
    {
     "name": "stderr",
     "output_type": "stream",
     "text": [
      "Using TensorFlow backend.\n"
     ]
    }
   ],
   "source": [
    "# Modified fedavg for our input\n",
    "from __future__ import absolute_import, division, print_function, unicode_literals\n",
    "\n",
    "# Other import\n",
    "import sys\n",
    "import os\n",
    "import time\n",
    "import tensorflow as tf\n",
    "from data.preprocessing import preprocessing_for_training, separate_and_preprocess_for_simple_fed, evaluate_with_new_model\n",
    "from data.read_data import read_data, read_setting\n",
    "from data.data_utils import load_cifar10_data, train_test_label_to_categorical\n",
    "from model.model import init_model, record_history, training_once, print_result_for_fed\n",
    "from model.operation import broadcast_to_device, caculate_delta, aggregate_add, aggregate_division_return \n",
    "from config.environment import gpu_decision, zmq_bind\n",
    "\n",
    "from math import floor\n",
    "from keras import backend as K\n",
    "from keras.preprocessing.image import ImageDataGenerator\n",
    "\n",
    "import multiprocessing as mp\n",
    "import zmq"
   ]
  },
  {
   "cell_type": "code",
   "execution_count": 3,
   "metadata": {},
   "outputs": [],
   "source": [
    "def step_decay(epoch):\n",
    "    epoch = _ + epo\n",
    "    # initial_lrate = 1.0 # no longer needed\n",
    "    drop = 0.99\n",
    "    epochs_drop = 1.0\n",
    "    \n",
    "    lrate = 0.2 * pow(drop, floor((1+epoch)/epochs_drop))\n",
    "    return lrate"
   ]
  },
  {
   "cell_type": "code",
   "execution_count": 4,
   "metadata": {},
   "outputs": [],
   "source": [
    "_, epo = 0, 0"
   ]
  },
  {
   "cell_type": "code",
   "execution_count": 5,
   "metadata": {},
   "outputs": [],
   "source": [
    "def gpu_decision(num_gpu ,device_num):\n",
    "    os.environ[\"CUDA_VISIBLE_DEVICES\"] = str(device_num%num_gpu)\n",
    "    with K.tf.device('/device:GPU:0'):\n",
    "        config = tf.ConfigProto()\n",
    "        config.gpu_options.allow_growth = True\n",
    "        sess = tf.Session(config=config)"
   ]
  },
  {
   "cell_type": "code",
   "execution_count": 6,
   "metadata": {},
   "outputs": [],
   "source": [
    "def model_training(r, device_num):\n",
    "    # Load CIFAR-10 data\n",
    "    train_images, train_labels, test_images, test_labels = load_cifar10_data()\n",
    "    \n",
    "    gpu_decision(training_info[\"num_gpu\"] ,device_num)\n",
    "            \n",
    "    model_m = tf.keras.models.load_model('parallel/model_m.h5')\n",
    "\n",
    "    # Define our model\n",
    "    if(r == 0):\n",
    "        locals()['model_{}'.format(device_num)] = init_model()\n",
    "    else:\n",
    "        locals()['model_{}'.format(device_num)] = tf.keras.models.load_model('parallel/model_m.h5')\n",
    "    \n",
    "    # Local training on each device\n",
    "    for epo in range(training_info[\"num_local_epoch\"]):\n",
    "        train_new_image, train_new_label = separate_and_preprocess_for_simple_fed(device_num, train_images, train_labels, training_info[\"num_device\"])\n",
    "        history_temp = training_once(locals()['model_{}'.format(device_num)], train_new_image, train_new_label, training_info, augment, callback)\n",
    "\n",
    "    # Calculate delta weight on each device\n",
    "    caculate_delta(locals()['model_{}'.format(device_num)], model_m)\n",
    "        \n",
    "    # Save delta weight in each model weight(.h5) file \n",
    "    try:\n",
    "        if(r == 0):\n",
    "            locals()['model_{}'.format(device_num)].save('parallel/model_{}.h5'.format(device_num))\n",
    "        else:\n",
    "            locals()['model_{}'.format(device_num)].save_weights('parallel/model_{}.h5'.format(device_num))\n",
    "    except:\n",
    "        print(\"error found\")"
   ]
  },
  {
   "cell_type": "code",
   "execution_count": null,
   "metadata": {},
   "outputs": [
    {
     "name": "stdout",
     "output_type": "stream",
     "text": [
      "(Received) round: b'0:0', device: 0\n",
      "(Received) round: b'0:1', device: 1\n",
      "(Received) round: b'0:2', device: 2\n",
      "(Received) round: b'0:3', device: 3\n",
      "WARNING:tensorflow:From /home/mnetlab/anaconda3/envs/pp_fl/lib/python3.6/site-packages/tensorflow_core/python/ops/init_ops.py:97: calling GlorotUniform.__init__ (from tensorflow.python.ops.init_ops) with dtype is deprecated and will be removed in a future version.\n",
      "Instructions for updating:\n",
      "Call initializer instance with the dtype argument instead of passing it to the constructor\n",
      "WARNING:tensorflow:From /home/mnetlab/anaconda3/envs/pp_fl/lib/python3.6/site-packages/tensorflow_core/python/ops/init_ops.py:97: calling GlorotUniform.__init__ (from tensorflow.python.ops.init_ops) with dtype is deprecated and will be removed in a future version.\n",
      "Instructions for updating:\n",
      "Call initializer instance with the dtype argument instead of passing it to the constructorWARNING:tensorflow:From /home/mnetlab/anaconda3/envs/pp_fl/lib/python3.6/site-packages/tensorflow_core/python/ops/init_ops.py:97: calling Zeros.__init__ (from tensorflow.python.ops.init_ops) with dtype is deprecated and will be removed in a future version.\n",
      "Instructions for updating:\n",
      "Call initializer instance with the dtype argument instead of passing it to the constructor\n",
      "\n",
      "WARNING:tensorflow:From /home/mnetlab/anaconda3/envs/pp_fl/lib/python3.6/site-packages/tensorflow_core/python/ops/init_ops.py:97: calling Zeros.__init__ (from tensorflow.python.ops.init_ops) with dtype is deprecated and will be removed in a future version.\n",
      "Instructions for updating:\n",
      "Call initializer instance with the dtype argument instead of passing it to the constructor\n",
      "WARNING:tensorflow:From /home/mnetlab/anaconda3/envs/pp_fl/lib/python3.6/site-packages/tensorflow_core/python/ops/resource_variable_ops.py:1630: calling BaseResourceVariable.__init__ (from tensorflow.python.ops.resource_variable_ops) with constraint is deprecated and will be removed in a future version.\n",
      "Instructions for updating:\n",
      "If using Keras pass *_constraint arguments to layers.WARNING:tensorflow:From /home/mnetlab/anaconda3/envs/pp_fl/lib/python3.6/site-packages/tensorflow_core/python/ops/init_ops.py:97: calling GlorotUniform.__init__ (from tensorflow.python.ops.init_ops) with dtype is deprecated and will be removed in a future version.\n",
      "Instructions for updating:\n",
      "Call initializer instance with the dtype argument instead of passing it to the constructorWARNING:tensorflow:From /home/mnetlab/anaconda3/envs/pp_fl/lib/python3.6/site-packages/tensorflow_core/python/ops/init_ops.py:97: calling GlorotUniform.__init__ (from tensorflow.python.ops.init_ops) with dtype is deprecated and will be removed in a future version.\n",
      "Instructions for updating:\n",
      "Call initializer instance with the dtype argument instead of passing it to the constructorWARNING:tensorflow:From /home/mnetlab/anaconda3/envs/pp_fl/lib/python3.6/site-packages/tensorflow_core/python/ops/resource_variable_ops.py:1630: calling BaseResourceVariable.__init__ (from tensorflow.python.ops.resource_variable_ops) with constraint is deprecated and will be removed in a future version.\n",
      "Instructions for updating:\n",
      "If using Keras pass *_constraint arguments to layers.\n",
      "\n",
      "\n",
      "\n",
      "WARNING:tensorflow:From /home/mnetlab/anaconda3/envs/pp_fl/lib/python3.6/site-packages/tensorflow_core/python/ops/init_ops.py:97: calling Zeros.__init__ (from tensorflow.python.ops.init_ops) with dtype is deprecated and will be removed in a future version.\n",
      "Instructions for updating:\n",
      "Call initializer instance with the dtype argument instead of passing it to the constructorWARNING:tensorflow:From /home/mnetlab/anaconda3/envs/pp_fl/lib/python3.6/site-packages/tensorflow_core/python/ops/init_ops.py:97: calling Zeros.__init__ (from tensorflow.python.ops.init_ops) with dtype is deprecated and will be removed in a future version.\n",
      "Instructions for updating:\n",
      "Call initializer instance with the dtype argument instead of passing it to the constructor\n",
      "\n",
      "WARNING:tensorflow:From /home/mnetlab/anaconda3/envs/pp_fl/lib/python3.6/site-packages/tensorflow_core/python/ops/init_ops.py:97: calling Ones.__init__ (from tensorflow.python.ops.init_ops) with dtype is deprecated and will be removed in a future version.\n",
      "Instructions for updating:\n",
      "Call initializer instance with the dtype argument instead of passing it to the constructorWARNING:tensorflow:From /home/mnetlab/anaconda3/envs/pp_fl/lib/python3.6/site-packages/tensorflow_core/python/ops/init_ops.py:97: calling Ones.__init__ (from tensorflow.python.ops.init_ops) with dtype is deprecated and will be removed in a future version.\n",
      "Instructions for updating:\n",
      "Call initializer instance with the dtype argument instead of passing it to the constructor\n",
      "\n",
      "WARNING:tensorflow:From /home/mnetlab/anaconda3/envs/pp_fl/lib/python3.6/site-packages/tensorflow_core/python/ops/resource_variable_ops.py:1630: calling BaseResourceVariable.__init__ (from tensorflow.python.ops.resource_variable_ops) with constraint is deprecated and will be removed in a future version.\n",
      "Instructions for updating:\n",
      "If using Keras pass *_constraint arguments to layers.\n",
      "WARNING:tensorflow:From /home/mnetlab/anaconda3/envs/pp_fl/lib/python3.6/site-packages/tensorflow_core/python/ops/resource_variable_ops.py:1630: calling BaseResourceVariable.__init__ (from tensorflow.python.ops.resource_variable_ops) with constraint is deprecated and will be removed in a future version.\n",
      "Instructions for updating:\n",
      "If using Keras pass *_constraint arguments to layers.\n",
      "WARNING:tensorflow:From /home/mnetlab/anaconda3/envs/pp_fl/lib/python3.6/site-packages/tensorflow_core/python/ops/init_ops.py:97: calling Ones.__init__ (from tensorflow.python.ops.init_ops) with dtype is deprecated and will be removed in a future version.\n",
      "Instructions for updating:\n",
      "Call initializer instance with the dtype argument instead of passing it to the constructor\n",
      "WARNING:tensorflow:From /home/mnetlab/anaconda3/envs/pp_fl/lib/python3.6/site-packages/tensorflow_core/python/ops/init_ops.py:97: calling Ones.__init__ (from tensorflow.python.ops.init_ops) with dtype is deprecated and will be removed in a future version.\n",
      "Instructions for updating:\n",
      "Call initializer instance with the dtype argument instead of passing it to the constructor\n"
     ]
    },
    {
     "name": "stderr",
     "output_type": "stream",
     "text": [
      "/home/mnetlab/Jeff/model/operation.py:21: VisibleDeprecationWarning: Creating an ndarray from ragged nested sequences (which is a list-or-tuple of lists-or-tuples-or ndarrays with different lengths or shapes) is deprecated. If you meant to do this, you must specify 'dtype=object' when creating the ndarray\n",
      "  model_m.layers[layer].get_weights()))\n",
      "/home/mnetlab/Jeff/model/operation.py:21: VisibleDeprecationWarning: Creating an ndarray from ragged nested sequences (which is a list-or-tuple of lists-or-tuples-or ndarrays with different lengths or shapes) is deprecated. If you meant to do this, you must specify 'dtype=object' when creating the ndarray\n",
      "  model_m.layers[layer].get_weights()))\n",
      "/home/mnetlab/Jeff/model/operation.py:21: VisibleDeprecationWarning: Creating an ndarray from ragged nested sequences (which is a list-or-tuple of lists-or-tuples-or ndarrays with different lengths or shapes) is deprecated. If you meant to do this, you must specify 'dtype=object' when creating the ndarray\n",
      "  model_m.layers[layer].get_weights()))\n",
      "/home/mnetlab/Jeff/model/operation.py:21: VisibleDeprecationWarning: Creating an ndarray from ragged nested sequences (which is a list-or-tuple of lists-or-tuples-or ndarrays with different lengths or shapes) is deprecated. If you meant to do this, you must specify 'dtype=object' when creating the ndarray\n",
      "  model_m.layers[layer].get_weights()))\n"
     ]
    },
    {
     "name": "stdout",
     "output_type": "stream",
     "text": [
      "(Received) round: b'1:0', device: 0\n",
      "(Received) round: b'1:1', device: 1\n",
      "(Received) round: b'1:2', device: 2\n",
      "(Received) round: b'1:3', device: 3\n",
      "WARNING:tensorflow:From /home/mnetlab/anaconda3/envs/pp_fl/lib/python3.6/site-packages/tensorflow_core/python/ops/init_ops.py:97: calling GlorotUniform.__init__ (from tensorflow.python.ops.init_ops) with dtype is deprecated and will be removed in a future version.\n",
      "Instructions for updating:\n",
      "Call initializer instance with the dtype argument instead of passing it to the constructor\n",
      "WARNING:tensorflow:From /home/mnetlab/anaconda3/envs/pp_fl/lib/python3.6/site-packages/tensorflow_core/python/ops/init_ops.py:97: calling Zeros.__init__ (from tensorflow.python.ops.init_ops) with dtype is deprecated and will be removed in a future version.\n",
      "Instructions for updating:\n",
      "Call initializer instance with the dtype argument instead of passing it to the constructor\n",
      "WARNING:tensorflow:From /home/mnetlab/anaconda3/envs/pp_fl/lib/python3.6/site-packages/tensorflow_core/python/ops/init_ops.py:97: calling GlorotUniform.__init__ (from tensorflow.python.ops.init_ops) with dtype is deprecated and will be removed in a future version.\n",
      "Instructions for updating:\n",
      "Call initializer instance with the dtype argument instead of passing it to the constructorWARNING:tensorflow:From /home/mnetlab/anaconda3/envs/pp_fl/lib/python3.6/site-packages/tensorflow_core/python/ops/init_ops.py:97: calling GlorotUniform.__init__ (from tensorflow.python.ops.init_ops) with dtype is deprecated and will be removed in a future version.\n",
      "Instructions for updating:\n",
      "Call initializer instance with the dtype argument instead of passing it to the constructor\n",
      "WARNING:tensorflow:From /home/mnetlab/anaconda3/envs/pp_fl/lib/python3.6/site-packages/tensorflow_core/python/ops/init_ops.py:97: calling Zeros.__init__ (from tensorflow.python.ops.init_ops) with dtype is deprecated and will be removed in a future version.\n",
      "Instructions for updating:\n",
      "Call initializer instance with the dtype argument instead of passing it to the constructor\n",
      "\n",
      "WARNING:tensorflow:From /home/mnetlab/anaconda3/envs/pp_fl/lib/python3.6/site-packages/tensorflow_core/python/ops/init_ops.py:97: calling Zeros.__init__ (from tensorflow.python.ops.init_ops) with dtype is deprecated and will be removed in a future version.\n",
      "Instructions for updating:\n",
      "Call initializer instance with the dtype argument instead of passing it to the constructorWARNING:tensorflow:From /home/mnetlab/anaconda3/envs/pp_fl/lib/python3.6/site-packages/tensorflow_core/python/ops/init_ops.py:97: calling GlorotUniform.__init__ (from tensorflow.python.ops.init_ops) with dtype is deprecated and will be removed in a future version.\n",
      "Instructions for updating:\n",
      "Call initializer instance with the dtype argument instead of passing it to the constructorWARNING:tensorflow:From /home/mnetlab/anaconda3/envs/pp_fl/lib/python3.6/site-packages/tensorflow_core/python/ops/resource_variable_ops.py:1630: calling BaseResourceVariable.__init__ (from tensorflow.python.ops.resource_variable_ops) with constraint is deprecated and will be removed in a future version.\n",
      "Instructions for updating:\n",
      "If using Keras pass *_constraint arguments to layers.\n",
      "\n",
      "\n",
      "WARNING:tensorflow:From /home/mnetlab/anaconda3/envs/pp_fl/lib/python3.6/site-packages/tensorflow_core/python/ops/init_ops.py:97: calling Zeros.__init__ (from tensorflow.python.ops.init_ops) with dtype is deprecated and will be removed in a future version.\n",
      "Instructions for updating:\n",
      "Call initializer instance with the dtype argument instead of passing it to the constructor\n",
      "WARNING:tensorflow:From /home/mnetlab/anaconda3/envs/pp_fl/lib/python3.6/site-packages/tensorflow_core/python/ops/resource_variable_ops.py:1630: calling BaseResourceVariable.__init__ (from tensorflow.python.ops.resource_variable_ops) with constraint is deprecated and will be removed in a future version.\n",
      "Instructions for updating:\n",
      "If using Keras pass *_constraint arguments to layers.\n",
      "WARNING:tensorflow:From /home/mnetlab/anaconda3/envs/pp_fl/lib/python3.6/site-packages/tensorflow_core/python/ops/init_ops.py:97: calling Ones.__init__ (from tensorflow.python.ops.init_ops) with dtype is deprecated and will be removed in a future version.\n",
      "Instructions for updating:\n",
      "Call initializer instance with the dtype argument instead of passing it to the constructor\n",
      "WARNING:tensorflow:From /home/mnetlab/anaconda3/envs/pp_fl/lib/python3.6/site-packages/tensorflow_core/python/ops/resource_variable_ops.py:1630: calling BaseResourceVariable.__init__ (from tensorflow.python.ops.resource_variable_ops) with constraint is deprecated and will be removed in a future version.\n",
      "Instructions for updating:\n",
      "If using Keras pass *_constraint arguments to layers.WARNING:tensorflow:From /home/mnetlab/anaconda3/envs/pp_fl/lib/python3.6/site-packages/tensorflow_core/python/ops/resource_variable_ops.py:1630: calling BaseResourceVariable.__init__ (from tensorflow.python.ops.resource_variable_ops) with constraint is deprecated and will be removed in a future version.\n",
      "Instructions for updating:\n",
      "If using Keras pass *_constraint arguments to layers.\n",
      "\n",
      "WARNING:tensorflow:From /home/mnetlab/anaconda3/envs/pp_fl/lib/python3.6/site-packages/tensorflow_core/python/ops/init_ops.py:97: calling Ones.__init__ (from tensorflow.python.ops.init_ops) with dtype is deprecated and will be removed in a future version.\n",
      "Instructions for updating:\n",
      "Call initializer instance with the dtype argument instead of passing it to the constructor\n",
      "WARNING:tensorflow:From /home/mnetlab/anaconda3/envs/pp_fl/lib/python3.6/site-packages/tensorflow_core/python/ops/init_ops.py:97: calling Ones.__init__ (from tensorflow.python.ops.init_ops) with dtype is deprecated and will be removed in a future version.\n",
      "Instructions for updating:\n",
      "Call initializer instance with the dtype argument instead of passing it to the constructor\n",
      "WARNING:tensorflow:From /home/mnetlab/anaconda3/envs/pp_fl/lib/python3.6/site-packages/tensorflow_core/python/ops/init_ops.py:97: calling Ones.__init__ (from tensorflow.python.ops.init_ops) with dtype is deprecated and will be removed in a future version.\n",
      "Instructions for updating:\n",
      "Call initializer instance with the dtype argument instead of passing it to the constructor\n"
     ]
    }
   ],
   "source": [
    "# Adjust parameters of the model\n",
    "callback = tf.keras.callbacks.LearningRateScheduler(step_decay)\n",
    "# Define the method for preprocessing\n",
    "augment = ImageDataGenerator(preprocessing_function=preprocessing_for_training)\n",
    "\n",
    "# bind zmq socket port\n",
    "context = zmq.Context()\n",
    "socket = context.socket(zmq.REP)\n",
    "socket.bind(\"tcp://*:5566\")\n",
    "\n",
    " # Read detailed settings from json file\n",
    "detailed_setting = read_setting()\n",
    "training_info = detailed_setting[\"training_info\"]\n",
    "\n",
    "while True:\n",
    "    while True:\n",
    "        # Recieve message from server\n",
    "        message = socket.recv()\n",
    "        ms = str(message, encoding = \"utf-8\").split(\":\")\n",
    "        r = int(ms[0])\n",
    "        device_num = int(ms[1])\n",
    "        print(\"(Received) round: %s, device: %s\" % (message, device_num))\n",
    "        \n",
    "        # Start process for the device\n",
    "        locals()['p_{}'.format(device_num)] = mp.Process(target=model_training, args=(r, device_num))\n",
    "        locals()['p_{}'.format(device_num)].start()\n",
    "        \n",
    "        socket.send(b\"ok\")\n",
    "        if(device_num == (training_info['num_device']-1)): break\n",
    "    \n",
    "    # Wait all processes done the jobs\n",
    "    for device in range(training_info['num_device']):\n",
    "        locals()['p_{}'.format(device_num)].join()\n",
    "\n",
    "    # Tell server that the 'r' round finish\n",
    "    message = socket.recv()\n",
    "    socket.send(b\"finish\")\n",
    "    if(r == (training_info['num_round']-1)): break"
   ]
  },
  {
   "cell_type": "code",
   "execution_count": null,
   "metadata": {},
   "outputs": [],
   "source": []
  },
  {
   "cell_type": "code",
   "execution_count": null,
   "metadata": {},
   "outputs": [],
   "source": []
  }
 ],
 "metadata": {
  "kernelspec": {
   "display_name": "pp_fl",
   "language": "python",
   "name": "pp_fl"
  },
  "language_info": {
   "codemirror_mode": {
    "name": "ipython",
    "version": 3
   },
   "file_extension": ".py",
   "mimetype": "text/x-python",
   "name": "python",
   "nbconvert_exporter": "python",
   "pygments_lexer": "ipython3",
   "version": "3.6.5"
  }
 },
 "nbformat": 4,
 "nbformat_minor": 4
}
