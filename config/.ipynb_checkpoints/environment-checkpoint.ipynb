{
 "cells": [
  {
   "cell_type": "code",
   "execution_count": 1,
   "metadata": {},
   "outputs": [],
   "source": [
    "# Zmq\n",
    "import multiprocessing as mp\n",
    "import zmq\n",
    "\n",
    "# Use specific GPU\n",
    "def gpu_decision(num_gpu=2 ,device_num=0):\n",
    "    \"\"\"\n",
    "    Decide which GPU to compute.\n",
    "    :param the number of GPUs\n",
    "    :param the number of devices\n",
    "    \"\"\"\n",
    "    \n",
    "    os.environ[\"CUDA_VISIBLE_DEVICES\"] = str(device_num%num_gpu)\n",
    "    with K.tf.device('/device:GPU:0'):\n",
    "        config = tf.ConfigProto()\n",
    "        config.gpu_options.allow_growth = True\n",
    "        sess = tf.Session(config=config)\n",
    "        \n",
    "# Bind zmq\n",
    "def zmq_bind():\n",
    "    \"\"\"\n",
    "    Use zmq to exchange messages between devices and master.\n",
    "    \"\"\"\n",
    "    \n",
    "    context = zmq.Context()\n",
    "    socket = context.socket(zmq.REQ)\n",
    "    socket.connect(\"tcp://localhost:5566\")"
   ]
  }
 ],
 "metadata": {
  "kernelspec": {
   "display_name": "pp_fl",
   "language": "python",
   "name": "pp_fl"
  },
  "language_info": {
   "codemirror_mode": {
    "name": "ipython",
    "version": 3
   },
   "file_extension": ".py",
   "mimetype": "text/x-python",
   "name": "python",
   "nbconvert_exporter": "python",
   "pygments_lexer": "ipython3",
   "version": "3.6.5"
  }
 },
 "nbformat": 4,
 "nbformat_minor": 4
}
